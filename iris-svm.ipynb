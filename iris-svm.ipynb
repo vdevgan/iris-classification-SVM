{
 "cells": [
  {
   "cell_type": "code",
   "execution_count": 1,
   "metadata": {},
   "outputs": [
    {
     "name": "stderr",
     "output_type": "stream",
     "text": [
      "E:\\anaconda\\lib\\site-packages\\sklearn\\cross_validation.py:44: DeprecationWarning: This module was deprecated in version 0.18 in favor of the model_selection module into which all the refactored classes and functions are moved. Also note that the interface of the new CV iterators are different from that of this module. This module will be removed in 0.20.\n",
      "  \"This module will be removed in 0.20.\", DeprecationWarning)\n"
     ]
    }
   ],
   "source": [
    "import pandas as pd\n",
    "import numpy as np\n",
    "from sklearn import datasets,svm,metrics,cross_validation\n",
    "import matplotlib.pyplot as plt"
   ]
  },
  {
   "cell_type": "code",
   "execution_count": 2,
   "metadata": {
    "collapsed": true
   },
   "outputs": [],
   "source": [
    "iris = datasets.load_iris()"
   ]
  },
  {
   "cell_type": "code",
   "execution_count": 4,
   "metadata": {
    "collapsed": true
   },
   "outputs": [
    {
     "data": {
      "text/plain": [
       "'Iris Plants Database\\n====================\\n\\nNotes\\n-----\\nData Set Characteristics:\\n    :Number of Instances: 150 (50 in each of three classes)\\n    :Number of Attributes: 4 numeric, predictive attributes and the class\\n    :Attribute Information:\\n        - sepal length in cm\\n        - sepal width in cm\\n        - petal length in cm\\n        - petal width in cm\\n        - class:\\n                - Iris-Setosa\\n                - Iris-Versicolour\\n                - Iris-Virginica\\n    :Summary Statistics:\\n\\n    ============== ==== ==== ======= ===== ====================\\n                    Min  Max   Mean    SD   Class Correlation\\n    ============== ==== ==== ======= ===== ====================\\n    sepal length:   4.3  7.9   5.84   0.83    0.7826\\n    sepal width:    2.0  4.4   3.05   0.43   -0.4194\\n    petal length:   1.0  6.9   3.76   1.76    0.9490  (high!)\\n    petal width:    0.1  2.5   1.20  0.76     0.9565  (high!)\\n    ============== ==== ==== ======= ===== ====================\\n\\n    :Missing Attribute Values: None\\n    :Class Distribution: 33.3% for each of 3 classes.\\n    :Creator: R.A. Fisher\\n    :Donor: Michael Marshall (MARSHALL%PLU@io.arc.nasa.gov)\\n    :Date: July, 1988\\n\\nThis is a copy of UCI ML iris datasets.\\nhttp://archive.ics.uci.edu/ml/datasets/Iris\\n\\nThe famous Iris database, first used by Sir R.A Fisher\\n\\nThis is perhaps the best known database to be found in the\\npattern recognition literature.  Fisher\\'s paper is a classic in the field and\\nis referenced frequently to this day.  (See Duda & Hart, for example.)  The\\ndata set contains 3 classes of 50 instances each, where each class refers to a\\ntype of iris plant.  One class is linearly separable from the other 2; the\\nlatter are NOT linearly separable from each other.\\n\\nReferences\\n----------\\n   - Fisher,R.A. \"The use of multiple measurements in taxonomic problems\"\\n     Annual Eugenics, 7, Part II, 179-188 (1936); also in \"Contributions to\\n     Mathematical Statistics\" (John Wiley, NY, 1950).\\n   - Duda,R.O., & Hart,P.E. (1973) Pattern Classification and Scene Analysis.\\n     (Q327.D83) John Wiley & Sons.  ISBN 0-471-22361-1.  See page 218.\\n   - Dasarathy, B.V. (1980) \"Nosing Around the Neighborhood: A New System\\n     Structure and Classification Rule for Recognition in Partially Exposed\\n     Environments\".  IEEE Transactions on Pattern Analysis and Machine\\n     Intelligence, Vol. PAMI-2, No. 1, 67-71.\\n   - Gates, G.W. (1972) \"The Reduced Nearest Neighbor Rule\".  IEEE Transactions\\n     on Information Theory, May 1972, 431-433.\\n   - See also: 1988 MLC Proceedings, 54-64.  Cheeseman et al\"s AUTOCLASS II\\n     conceptual clustering system finds 3 classes in the data.\\n   - Many, many more ...\\n'"
      ]
     },
     "execution_count": 4,
     "metadata": {},
     "output_type": "execute_result"
    }
   ],
   "source": [
    "iris.DESCR"
   ]
  },
  {
   "cell_type": "code",
   "execution_count": 5,
   "metadata": {
    "collapsed": true
   },
   "outputs": [],
   "source": [
    "X= iris.data[: , :2]\n",
    "Y=iris.target"
   ]
  },
  {
   "cell_type": "code",
   "execution_count": 6,
   "metadata": {},
   "outputs": [
    {
     "data": {
      "text/plain": [
       "SVC(C=1000, cache_size=200, class_weight=None, coef0=0.0,\n",
       "  decision_function_shape=None, degree=3, gamma=0.1, kernel='rbf',\n",
       "  max_iter=-1, probability=False, random_state=None, shrinking=True,\n",
       "  tol=0.001, verbose=False)"
      ]
     },
     "execution_count": 6,
     "metadata": {},
     "output_type": "execute_result"
    }
   ],
   "source": [
    "svc = svm.SVC(kernel ='rbf',C=1000,gamma=0.1)\n",
    "svc.fit(X,Y)"
   ]
  },
  {
   "cell_type": "code",
   "execution_count": 7,
   "metadata": {},
   "outputs": [
    {
     "name": "stdout",
     "output_type": "stream",
     "text": [
      "3.3 1.0\n"
     ]
    }
   ],
   "source": [
    "x1_min , x2_min = X[:, 0].min() - 1, X[:, 1].min() - 1\n",
    "print(x1_min , x2_min)"
   ]
  },
  {
   "cell_type": "code",
   "execution_count": 8,
   "metadata": {},
   "outputs": [
    {
     "name": "stdout",
     "output_type": "stream",
     "text": [
      "8.9 5.4\n"
     ]
    }
   ],
   "source": [
    "x1_max , x2_max = X[:, 0].max() + 1, X[:, 1].max() + 1\n",
    "print(x1_max , x2_max)"
   ]
  },
  {
   "cell_type": "code",
   "execution_count": 9,
   "metadata": {},
   "outputs": [
    {
     "name": "stdout",
     "output_type": "stream",
     "text": [
      "[ 3.3    3.356  3.412  3.468  3.524  3.58   3.636  3.692  3.748  3.804\n",
      "  3.86   3.916  3.972  4.028  4.084  4.14   4.196  4.252  4.308  4.364\n",
      "  4.42   4.476  4.532  4.588  4.644  4.7    4.756  4.812  4.868  4.924\n",
      "  4.98   5.036  5.092  5.148  5.204  5.26   5.316  5.372  5.428  5.484\n",
      "  5.54   5.596  5.652  5.708  5.764  5.82   5.876  5.932  5.988  6.044  6.1\n",
      "  6.156  6.212  6.268  6.324  6.38   6.436  6.492  6.548  6.604  6.66\n",
      "  6.716  6.772  6.828  6.884  6.94   6.996  7.052  7.108  7.164  7.22\n",
      "  7.276  7.332  7.388  7.444  7.5    7.556  7.612  7.668  7.724  7.78\n",
      "  7.836  7.892  7.948  8.004  8.06   8.116  8.172  8.228  8.284  8.34\n",
      "  8.396  8.452  8.508  8.564  8.62   8.676  8.732  8.788  8.844] [ 1.     1.044  1.088  1.132  1.176  1.22   1.264  1.308  1.352  1.396\n",
      "  1.44   1.484  1.528  1.572  1.616  1.66   1.704  1.748  1.792  1.836\n",
      "  1.88   1.924  1.968  2.012  2.056  2.1    2.144  2.188  2.232  2.276\n",
      "  2.32   2.364  2.408  2.452  2.496  2.54   2.584  2.628  2.672  2.716\n",
      "  2.76   2.804  2.848  2.892  2.936  2.98   3.024  3.068  3.112  3.156  3.2\n",
      "  3.244  3.288  3.332  3.376  3.42   3.464  3.508  3.552  3.596  3.64\n",
      "  3.684  3.728  3.772  3.816  3.86   3.904  3.948  3.992  4.036  4.08\n",
      "  4.124  4.168  4.212  4.256  4.3    4.344  4.388  4.432  4.476  4.52\n",
      "  4.564  4.608  4.652  4.696  4.74   4.784  4.828  4.872  4.916  4.96\n",
      "  5.004  5.048  5.092  5.136  5.18   5.224  5.268  5.312  5.356]\n"
     ]
    }
   ],
   "source": [
    "h1=(x1_max -x1_min)/100\n",
    "h2=(x2_max -x2_min)/100\n",
    "x1 = np.arange(x1_min , x1_max,h1)\n",
    "x2= np.arange(x2_min, x2_max,h2)\n",
    "print(x1,x2)"
   ]
  },
  {
   "cell_type": "code",
   "execution_count": 10,
   "metadata": {},
   "outputs": [
    {
     "name": "stdout",
     "output_type": "stream",
     "text": [
      "[[ 3.3    3.356  3.412 ...,  8.732  8.788  8.844]\n",
      " [ 3.3    3.356  3.412 ...,  8.732  8.788  8.844]\n",
      " [ 3.3    3.356  3.412 ...,  8.732  8.788  8.844]\n",
      " ..., \n",
      " [ 3.3    3.356  3.412 ...,  8.732  8.788  8.844]\n",
      " [ 3.3    3.356  3.412 ...,  8.732  8.788  8.844]\n",
      " [ 3.3    3.356  3.412 ...,  8.732  8.788  8.844]]\n"
     ]
    }
   ],
   "source": [
    "xx,yy = np.meshgrid(x1,x2)\n",
    "print(xx)\n",
    "xx.shape\n",
    "xx.ravel().shape\n",
    "points = np.c_[xx.ravel(),yy.ravel()]\n"
   ]
  },
  {
   "cell_type": "code",
   "execution_count": 11,
   "metadata": {
    "collapsed": true
   },
   "outputs": [],
   "source": [
    "pred = svc.predict(points)\n",
    "\n",
    "#bringing z(pred) to the shape of xx,yy\n",
    "pred = pred.reshape(xx.shape)"
   ]
  },
  {
   "cell_type": "code",
   "execution_count": 12,
   "metadata": {},
   "outputs": [
    {
     "data": {
      "image/png": "[encoded data removed]",
      "text/plain": [
       "<matplotlib.figure.Figure at 0x25e57fe15c0>"
      ]
     },
     "metadata": {},
     "output_type": "display_data"
    }
   ],
   "source": [
    "plt.contourf(xx,yy,pred,cmap=plt.cm.Paired,alpha=1)\n",
    "plt.scatter(X[:,0],X[:,1],c=['green','yellow','blue'])\n",
    "plt.show()"
   ]
  },
  {
   "cell_type": "code",
   "execution_count": 16,
   "metadata": {},
   "outputs": [
    {
     "data": {
      "text/plain": [
       "0.81999999999999995"
      ]
     },
     "execution_count": 16,
     "metadata": {},
     "output_type": "execute_result"
    }
   ],
   "source": [
    "#do the same for rbf,linear kernel\n",
    "clf1= svm.SVC(kernel = 'rbf', C =1,gamma =.1)\n",
    "clf1.fit(X,Y)\n",
    "y_pred1 = clf1.predict(X)\n",
    "clf1.score(X,Y)"
   ]
  },
  {
   "cell_type": "code",
   "execution_count": 17,
   "metadata": {},
   "outputs": [
    {
     "data": {
      "text/plain": [
       "0.81999999999999995"
      ]
     },
     "execution_count": 17,
     "metadata": {},
     "output_type": "execute_result"
    }
   ],
   "source": [
    "clf1= svm.SVC(kernel = 'linear', C =1,gamma =.1)\n",
    "clf1.fit(X,Y)\n",
    "y_pred1 = clf1.predict(X)\n",
    "clf1.score(X,Y)"
   ]
  }
 ],
 "metadata": {
  "kernelspec": {
   "display_name": "Python 3",
   "language": "python",
   "name": "python3"
  },
  "language_info": {
   "codemirror_mode": {
    "name": "ipython",
    "version": 3
   },
   "file_extension": ".py",
   "mimetype": "text/x-python",
   "name": "python",
   "nbconvert_exporter": "python",
   "pygments_lexer": "ipython3",
   "version": "3.6.1"
  }
 },
 "nbformat": 4,
 "nbformat_minor": 2
}
